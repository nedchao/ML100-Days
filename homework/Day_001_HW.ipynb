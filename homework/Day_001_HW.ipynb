{
 "cells": [
  {
   "cell_type": "markdown",
   "metadata": {},
   "source": [
    "# DAY001\n",
    "***\n",
    "## Homework1:\n",
    "\n",
    "#### 請上 Kaggle, 在 Competitions 或 Dataset 中找一組競賽或資料並寫下：\n",
    "在Kaggle, Competitions找到這組關於組織病理學癌症檢測的資料:\n",
    "[Histopathologic Cancer Detection](https://www.kaggle.com/c/histopathologic-cancer-detection#description)\n",
    "\n",
    "#### 1. 你選的這組資料為何重要 (Why the data is important?)\n",
    "    這組資料是組織病理學癌症檢測的相關數據，這種檢查影響惡性腫瘤的最終診斷結果，並可做為治療的重要依據。\n",
    "\n",
    "#### 2. 資料從何而來 (tips: 譬如提供者是誰、以什麼方式蒐集) (Where does dataset come from?)\n",
    "    資料提供者主要為 Bas Veeling，以及 Babak Ehteshami Bejnordi, Geert Litjens, Jeroen van der Laak 等人。\n",
    "    這組數據是基於PatchCamelyon（PCAM）數據集調整的版本，原始數據為。\n",
    "    [Github官方Pcam數據集](https://github.com/basveeling/pcam)\n",
    "    \n",
    "#### 3. 蒐集而來的資料型態為何(What are the data types in the dataset?)\n",
    "    主要資料為96*96px的*.tif圖檔，每張圖檔由一組id命名，對應每個圖檔id有一組label，\n",
    "    label以0跟1區別圖檔中心的32*32px內，是否至少包含1px腫瘤組織的圖像資訊，在此範圍之外的腫瘤組織圖像不對應此label資料。\n",
    "\n",
    "#### 4. 這組資料想解決的問題如何評估 (What is our goal?)\n",
    "    需預測圖片中心32*32px內至少包含1px腫瘤組織的機率，目標是得出一種可取代人眼判斷的預測方式，\n",
    "    最終得出的預測方式需能以test dataset驗證後，計算正確率/誤判率，比較原判斷方法的正確率/誤判率來評估是否達到預期目標。"
   ]
  },
  {
   "cell_type": "markdown",
   "metadata": {},
   "source": [
    "***\n",
    "## Homework2:\n",
    "\n",
    "#### 想像你經營一個自由載客車隊，你希望能透過數據分析以提升業績，請你思考並描述你如何規劃整體的分析/解決方案：\n",
    "\n",
    "#### 1. 核心問題為何 (tips：如何定義 「提升業績 & 你的假設」)\n",
    "    自由載客車隊業績不佳，可能為實際營運地區的載客率與客戶回頭使用率不佳，\n",
    "    假設在有需求這種服務的族群裡，叫車時段、載客地點、乘車距離可能影響載客率，\n",
    "    則需要進行調查客戶使用需求時段與地點評估。\n",
    "#### 2. 資料從何而來 (tips：哪些資料可能會對你想問的問題產生影響 & 資料如何蒐集)\n",
    "    可經由目前已營運地區的車隊，根據現有營收數據，劃分出不同時段及載客地點的差異，\n",
    "    針對客戶的叫車時段，載客地點、乘車距離，回程是否使用相同服務及客戶感受等資料進行收集，\n",
    "    可以由實際使用載客服務過程中進行資料紀錄，收集真實數據，或利用優惠交換客戶行前事後提供資訊方式收集。\n",
    "#### 3. 蒐集而來的資料型態為何\n",
    "    叫車時段可記錄叫車時間，乘車時間等時間資訊，載客地點可為GPS座標或街道地址等文字資料，乘車距離為數字里程資料，\n",
    "    回程是否使用相同服務可紀錄為是或否的二元資料，客戶感受可能為文字敘述或量表化的等級資料。\n",
    "#### 4. 你要回答的問題，其如何評估 (tips：你的假設如何驗證)\n",
    "    根據已有業績較佳的組合，找出上述資訊影響載客率比重較大的特徵值，\n",
    "    將對應的組合調整到營運條件較相近地區的車隊，進行載客率驗證，確認業績是否真的有提升。"
   ]
  },
  {
   "cell_type": "markdown",
   "metadata": {},
   "source": [
    "***\n",
    "## Homework3:\n",
    "\n",
    "## 常見於迴歸問題的評估指標\n",
    "* Mean Absolute Error (MAE)\n",
    "* Mean Squared Error (MSE)\n",
    "\n",
    "#### 請寫一個函式用來計算 Mean Square Error\n",
    "$ MSE = \\frac{1}{n}\\sum_{i=1}^{n}{(Y_i - \\hat{Y}_i)^2} $\n",
    "\n",
    "### Hint: [如何取平方](https://googoodesign.gitbooks.io/-ezpython/unit-1.html)"
   ]
  },
  {
   "cell_type": "code",
   "execution_count": 1,
   "metadata": {},
   "outputs": [],
   "source": [
    "import numpy as np\n",
    "import matplotlib.pyplot as plt"
   ]
  },
  {
   "cell_type": "code",
   "execution_count": 2,
   "metadata": {},
   "outputs": [],
   "source": [
    "def mean_squared_error(y, yp):\n",
    "    \"\"\"\n",
    "    計算 MSE\n",
    "    Args:\n",
    "        -y: 實際值\n",
    "        -yp: 預測值\n",
    "    Eeturn:\n",
    "        -mse: MSE\n",
    "    \"\"\"\n",
    "    mse = np.mean((y - yp)**2)\n",
    "    return mse\n",
    "    \n",
    "def mean_absolute_error(y, yp):\n",
    "    \"\"\"\n",
    "    計算 MAE\n",
    "    Args:\n",
    "        - y: 實際值\n",
    "        - yp: 預測值\n",
    "    Return:\n",
    "        - mae: MAE\n",
    "    \"\"\"\n",
    "    mae = MAE = sum(abs(y - yp)) / len(y)\n",
    "    return mae"
   ]
  },
  {
   "cell_type": "code",
   "execution_count": 3,
   "metadata": {},
   "outputs": [
    {
     "data": {
      "image/png": "[encoded data removed]",
      "text/plain": [
       "<Figure size 432x288 with 1 Axes>"
      ]
     },
     "metadata": {},
     "output_type": "display_data"
    }
   ],
   "source": [
    "w = 3\n",
    "b = 0.5\n",
    "\n",
    "x_lin = np.linspace(0, 100, 101)\n",
    "\n",
    "y = (x_lin + np.random.randn(101) * 5) * w + b\n",
    "\n",
    "plt.plot(x_lin, y, 'b.', label = 'data points')\n",
    "plt.title(\"Assume we have data points\")\n",
    "plt.legend(loc = 2)\n",
    "plt.show()"
   ]
  },
  {
   "cell_type": "code",
   "execution_count": 4,
   "metadata": {},
   "outputs": [
    {
     "data": {
      "image/png": "[encoded data removed]",
      "text/plain": [
       "<Figure size 432x288 with 1 Axes>"
      ]
     },
     "metadata": {},
     "output_type": "display_data"
    }
   ],
   "source": [
    "y_hat = x_lin * w + b\n",
    "plt.plot(x_lin, y, 'b.', label = 'data')\n",
    "plt.plot(x_lin, y_hat, 'r-', label = 'prediction')\n",
    "plt.title(\"Assume we have data points (And the prediction)\")\n",
    "plt.legend(loc = 2)\n",
    "plt.show()"
   ]
  },
  {
   "cell_type": "code",
   "execution_count": 5,
   "metadata": {},
   "outputs": [
    {
     "name": "stdout",
     "output_type": "stream",
     "text": [
      "The Mean squared error is 240.605\n",
      "The Mean absolute error is 12.320\n"
     ]
    }
   ],
   "source": [
    "# 執行 Function, 確認有沒有正常執行\n",
    "MSE = mean_squared_error(y, y_hat)\n",
    "MAE = mean_absolute_error(y, y_hat)\n",
    "print(\"The Mean squared error is %.3f\" % (MSE))\n",
    "print(\"The Mean absolute error is %.3f\" % (MAE))"
   ]
  },
  {
   "cell_type": "code",
   "execution_count": null,
   "metadata": {},
   "outputs": [],
   "source": []
  }
 ],
 "metadata": {
  "kernelspec": {
   "display_name": "Python 3",
   "language": "python",
   "name": "python3"
  },
  "language_info": {
   "codemirror_mode": {
    "name": "ipython",
    "version": 3
   },
   "file_extension": ".py",
   "mimetype": "text/x-python",
   "name": "python",
   "nbconvert_exporter": "python",
   "pygments_lexer": "ipython3",
   "version": "3.6.4"
  }
 },
 "nbformat": 4,
 "nbformat_minor": 2
}
